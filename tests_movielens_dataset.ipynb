{
 "cells": [
  {
   "cell_type": "markdown",
   "id": "c7173767",
   "metadata": {},
   "source": [
    "# Ad hod experiments with the MovieLens datasets"
   ]
  },
  {
   "cell_type": "markdown",
   "id": "bdbd7611",
   "metadata": {},
   "source": [
    "The MovieLens dataset corresponds to a Matrix Completion problem. We have about 6,000 MovieLens users and 4,000 movies. Each user and each movie is provided (categorical) relevent information. The goal is to infer users' ratings (an integer, from 1 star to 5 stars). There are approximately $6,000 \\times 4,000 = 24,000,000$ possible ratings, and only $1,000,000$ of them are observed (provided).  \n",
    "\n",
    "NB: the $k$NN$\\times$KDE is not designed (yet...) to handle categorical data.  \n",
    "NB2: the missing rate for this problem is around 96% (which is huge!)... We do not provide solid guarantee on these results.\n",
    "\n",
    "- - - - -\n",
    "\n",
    "Method:  \n",
    "We will only look for neighbours within users. Matching movies instead of users can be another option, not tested here. To match users, we use only two features, namely gender and age, which we treat as numerical features even thought they are provided as categorical features."
   ]
  },
  {
   "cell_type": "code",
   "execution_count": 7,
   "id": "03672013",
   "metadata": {},
   "outputs": [],
   "source": [
    "import numpy as np\n",
    "import pandas as pd\n",
    "import matplotlib.pyplot as plt\n",
    "from utils import normalization\n",
    "from knnxkde import KNNxKDE"
   ]
  },
  {
   "cell_type": "code",
   "execution_count": 10,
   "id": "81dd7051",
   "metadata": {},
   "outputs": [],
   "source": [
    "# Datasets can be downloaded here: https://grouplens.org/datasets/movielens/1m/\n",
    "filename_movies = 'data/ml-1m/movies.dat'\n",
    "names_movies = ['movie_id', 'name', 'genres']\n",
    "data_movies = pd.read_csv(filename_movies, sep='::', header=None, names=names_movies, encoding='latin-1')\n",
    "\n",
    "filename_users = 'data/ml-1m/users.dat'\n",
    "names_users = ['user_id', 'gender', 'age', 'job', 'zipcode']\n",
    "data_users = pd.read_csv(filename_users, sep='::', header=None, names=names_users, encoding='latin-1')\n",
    "\n",
    "filename_ratings = 'data/ml-1m/ratings.dat'\n",
    "names_ratings = ['user_id', 'movie_id', 'rating', 'time']\n",
    "data_ratings = pd.read_csv(filename_ratings, sep='::', header=None, names=names_ratings, encoding='latin-1')"
   ]
  },
  {
   "cell_type": "code",
   "execution_count": 11,
   "id": "07add076",
   "metadata": {},
   "outputs": [
    {
     "name": "stdout",
     "output_type": "stream",
     "text": [
      "100000/100000\r"
     ]
    }
   ],
   "source": [
    "nb_repeat = 100000\n",
    "true_ratings = np.zeros(nb_repeat)\n",
    "imputed_ratings = np.zeros(nb_repeat)\n",
    "\n",
    "for n in range(nb_repeat):\n",
    "    if (n+1)%100==0:\n",
    "        print(f'{n+1}/{nb_repeat}', end='\\r', flush=True)\n",
    "    \n",
    "    cur_movie_id = data_ratings.iloc[n]['movie_id']\n",
    "    cur_user_id = data_ratings.iloc[n]['user_id']\n",
    "    cur_mask = (data_ratings['movie_id']==cur_movie_id)\n",
    "    if cur_mask.sum()==1:  # sometimes, just one rating per movie --> skip\n",
    "        true_ratings[n] = data_ratings.iloc[n]['rating']\n",
    "        imputed_ratings[n] = np.nan\n",
    "        continue\n",
    "        \n",
    "    all_users_id = data_ratings[cur_mask]['user_id']\n",
    "    cur_data_users = data_users.iloc[np.array(all_users_id)-1]\n",
    "\n",
    "    my_data = np.zeros((cur_data_users.shape[0], 3))\n",
    "    my_data[:, 0] = np.array(cur_data_users['gender'] == 'M', dtype='float32')  # Gender as a numerical feature\n",
    "    my_data[:, 1] = np.array(cur_data_users['age'], dtype='float32')  # Age as a numerical feature\n",
    "    my_data[:, 2] = np.array(data_ratings[cur_mask]['rating'], dtype='float32')  # Rating\n",
    "    idx_to_hide = np.where(all_users_id == cur_user_id)[0][0]\n",
    "    my_data[idx_to_hide, 2] = np.nan\n",
    "    norm_miss_data, norm_params = normalization(my_data)\n",
    "\n",
    "    knnxkde = KNNxKDE(h=0.03, tau=1.0/10.0, metric='nan_std_eucl')\n",
    "    norm_imputed_data = knnxkde.impute_mean(norm_miss_data)\n",
    "    m1 = norm_params['min_val'][2]\n",
    "    m2 = norm_params['max_val'][2]\n",
    "    true_ratings[n] = data_ratings.iloc[n]['rating']\n",
    "    imputed_ratings[n] = norm_imputed_data[idx_to_hide, 2] * (m2 + 1e-6) + m1"
   ]
  },
  {
   "cell_type": "code",
   "execution_count": 13,
   "id": "f0d22779",
   "metadata": {
    "scrolled": true
   },
   "outputs": [
    {
     "name": "stdout",
     "output_type": "stream",
     "text": [
      "RMSE = 0.9746"
     ]
    }
   ],
   "source": [
    "rmse = np.sqrt(np.nanmean((true_ratings - imputed_ratings) ** 2.0))\n",
    "print(f'RMSE = {rmse:0.4f}', end='')"
   ]
  },
  {
   "cell_type": "code",
   "execution_count": null,
   "id": "dbfaf598",
   "metadata": {},
   "outputs": [],
   "source": []
  },
  {
   "cell_type": "code",
   "execution_count": null,
   "id": "d4875006",
   "metadata": {},
   "outputs": [],
   "source": []
  },
  {
   "cell_type": "code",
   "execution_count": null,
   "id": "d479de82",
   "metadata": {},
   "outputs": [],
   "source": []
  }
 ],
 "metadata": {
  "kernelspec": {
   "display_name": "Python 3 (ipykernel)",
   "language": "python",
   "name": "python3"
  },
  "language_info": {
   "codemirror_mode": {
    "name": "ipython",
    "version": 3
   },
   "file_extension": ".py",
   "mimetype": "text/x-python",
   "name": "python",
   "nbconvert_exporter": "python",
   "pygments_lexer": "ipython3",
   "version": "3.7.13"
  }
 },
 "nbformat": 4,
 "nbformat_minor": 5
}
